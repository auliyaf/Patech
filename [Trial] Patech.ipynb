{
  "nbformat": 4,
  "nbformat_minor": 0,
  "metadata": {
    "colab": {
      "name": "Patech",
      "provenance": [],
      "authorship_tag": "ABX9TyPYS/H/Myz5TJqJ0ML1xyhZ",
      "include_colab_link": true
    },
    "kernelspec": {
      "name": "python3",
      "display_name": "Python 3"
    },
    "language_info": {
      "name": "python"
    }
  },
  "cells": [
    {
      "cell_type": "markdown",
      "metadata": {
        "id": "view-in-github",
        "colab_type": "text"
      },
      "source": [
        "<a href=\"https://colab.research.google.com/github/auliyaf/Patech/blob/main/Patech.ipynb\" target=\"_parent\"><img src=\"https://colab.research.google.com/assets/colab-badge.svg\" alt=\"Open In Colab\"/></a>"
      ]
    },
    {
      "cell_type": "markdown",
      "metadata": {
        "id": "oRRZdFbEnCKd"
      },
      "source": [
        "#**Research Goals**\n",
        "Memprediksi kemungkinan terjadi antarknosa pada cabai (none, low, moderate, high) berdasarkan suhu udara, durasi, dan intensitas hujan"
      ]
    },
    {
      "cell_type": "code",
      "metadata": {
        "id": "H6Sixh-Zl3gj"
      },
      "source": [
        "import pandas as pd\n",
        "import numpy as np\n",
        "import matplotlib.pyplot as plt\n",
        "import seaborn as sns\n",
        "import io\n",
        "import sklearn\n",
        "from sklearn.linear_model import LinearRegression\n",
        "from sklearn.preprocessing import PolynomialFeatures"
      ],
      "execution_count": null,
      "outputs": []
    },
    {
      "cell_type": "markdown",
      "metadata": {
        "id": "MWX_mb6cl72a"
      },
      "source": [
        "#**Retrieving Data**\n",
        "Data diambil dari https://enviroweather.msu.edu/run.php?stn=msu&mod=f_anb&da1=8&mo1=6&da2=22&mo2=6&yr=2016&mc=540&ds=cd pada rentang tahun 2016-2020"
      ]
    },
    {
      "cell_type": "code",
      "metadata": {
        "id": "2RsFSzRqmEl_"
      },
      "source": [
        "url = 'https://raw.githubusercontent.com/auliyaf/Patech/main/DatasetPatech.csv'\n",
        "df = pd.read_csv(url)"
      ],
      "execution_count": null,
      "outputs": []
    },
    {
      "cell_type": "code",
      "metadata": {
        "colab": {
          "base_uri": "https://localhost:8080/"
        },
        "id": "TAbjDdp_p89X",
        "outputId": "f5c3cb8e-2485-4507-95d2-dc73ff297973"
      },
      "source": [
        "df.head()"
      ],
      "execution_count": null,
      "outputs": [
        {
          "output_type": "execute_result",
          "data": {
            "text/html": [
              "<div>\n",
              "<style scoped>\n",
              "    .dataframe tbody tr th:only-of-type {\n",
              "        vertical-align: middle;\n",
              "    }\n",
              "\n",
              "    .dataframe tbody tr th {\n",
              "        vertical-align: top;\n",
              "    }\n",
              "\n",
              "    .dataframe thead th {\n",
              "        text-align: right;\n",
              "    }\n",
              "</style>\n",
              "<table border=\"1\" class=\"dataframe\">\n",
              "  <thead>\n",
              "    <tr style=\"text-align: right;\">\n",
              "      <th></th>\n",
              "      <th>WetPeriod</th>\n",
              "      <th>Station</th>\n",
              "      <th>Start of Wetting Period</th>\n",
              "      <th>End of Wetting Period</th>\n",
              "      <th>Duration (Hrs.)</th>\n",
              "      <th>Avg. Temp(F)</th>\n",
              "      <th>Rainfall (in.)</th>\n",
              "      <th>Anthracnose risk</th>\n",
              "      <th>Wet hrs @ avg temp required for infection</th>\n",
              "      <th>Progress toward infection</th>\n",
              "    </tr>\n",
              "  </thead>\n",
              "  <tbody>\n",
              "    <tr>\n",
              "      <th>0</th>\n",
              "      <td>1</td>\n",
              "      <td>East Lansing (MSUHort)</td>\n",
              "      <td>1/5/2016 7:55</td>\n",
              "      <td>1/5/2016 8:25</td>\n",
              "      <td>0.6</td>\n",
              "      <td>10.6</td>\n",
              "      <td>0.00</td>\n",
              "      <td>None</td>\n",
              "      <td>0.0</td>\n",
              "      <td>0%</td>\n",
              "    </tr>\n",
              "    <tr>\n",
              "      <th>1</th>\n",
              "      <td>2</td>\n",
              "      <td>East Lansing (MSUHort)</td>\n",
              "      <td>1/8/2016 12:45</td>\n",
              "      <td>1/10/2016 10:55</td>\n",
              "      <td>46.3</td>\n",
              "      <td>38.0</td>\n",
              "      <td>0.66</td>\n",
              "      <td>None</td>\n",
              "      <td>0.0</td>\n",
              "      <td>74%</td>\n",
              "    </tr>\n",
              "    <tr>\n",
              "      <th>2</th>\n",
              "      <td>3</td>\n",
              "      <td>East Lansing (MSUHort)</td>\n",
              "      <td>1/14/2016 12:00</td>\n",
              "      <td>1/14/2016 14:40</td>\n",
              "      <td>2.8</td>\n",
              "      <td>32.0</td>\n",
              "      <td>0.02</td>\n",
              "      <td>None</td>\n",
              "      <td>0.0</td>\n",
              "      <td>0%</td>\n",
              "    </tr>\n",
              "    <tr>\n",
              "      <th>3</th>\n",
              "      <td>4</td>\n",
              "      <td>East Lansing (MSUHort)</td>\n",
              "      <td>1/15/2016 2:45</td>\n",
              "      <td>1/15/2016 3:50</td>\n",
              "      <td>1.2</td>\n",
              "      <td>38.7</td>\n",
              "      <td>0.00</td>\n",
              "      <td>None</td>\n",
              "      <td>0.0</td>\n",
              "      <td>0%</td>\n",
              "    </tr>\n",
              "    <tr>\n",
              "      <th>4</th>\n",
              "      <td>5</td>\n",
              "      <td>East Lansing (MSUHort)</td>\n",
              "      <td>1/15/2016 15:40</td>\n",
              "      <td>1/16/2016 2:45</td>\n",
              "      <td>11.2</td>\n",
              "      <td>36.0</td>\n",
              "      <td>0.05</td>\n",
              "      <td>None</td>\n",
              "      <td>0.0</td>\n",
              "      <td>1%</td>\n",
              "    </tr>\n",
              "  </tbody>\n",
              "</table>\n",
              "</div>"
            ],
            "text/plain": [
              "   WetPeriod  ... Progress toward infection\n",
              "0          1  ...                        0%\n",
              "1          2  ...                       74%\n",
              "2          3  ...                        0%\n",
              "3          4  ...                        0%\n",
              "4          5  ...                        1%\n",
              "\n",
              "[5 rows x 10 columns]"
            ]
          },
          "metadata": {},
          "execution_count": 3
        }
      ]
    },
    {
      "cell_type": "markdown",
      "metadata": {
        "id": "BhgDMqLhnt53"
      },
      "source": [
        "#**EDA & Data Preprocessing**"
      ]
    },
    {
      "cell_type": "code",
      "metadata": {
        "colab": {
          "base_uri": "https://localhost:8080/"
        },
        "id": "5JKsdjY8mvvP",
        "outputId": "65597bb9-61a2-4fa2-d68e-c0ece8758f48"
      },
      "source": [
        "df.info()"
      ],
      "execution_count": null,
      "outputs": [
        {
          "output_type": "stream",
          "text": [
            "<class 'pandas.core.frame.DataFrame'>\n",
            "RangeIndex: 1386 entries, 0 to 1385\n",
            "Data columns (total 10 columns):\n",
            " #   Column                                     Non-Null Count  Dtype  \n",
            "---  ------                                     --------------  -----  \n",
            " 0   WetPeriod                                  1386 non-null   int64  \n",
            " 1   Station                                    1386 non-null   object \n",
            " 2   Start of Wetting Period                    1386 non-null   object \n",
            " 3   End of Wetting Period                      1386 non-null   object \n",
            " 4   Duration (Hrs.)                            1386 non-null   float64\n",
            " 5   Avg. Temp(F)                               1386 non-null   float64\n",
            " 6   Rainfall (in.)                             1386 non-null   float64\n",
            " 7   Anthracnose risk                           1386 non-null   object \n",
            " 8   Wet hrs @ avg temp required for infection  1386 non-null   float64\n",
            " 9   Progress toward infection                  1386 non-null   object \n",
            "dtypes: float64(4), int64(1), object(5)\n",
            "memory usage: 108.4+ KB\n"
          ],
          "name": "stdout"
        }
      ]
    },
    {
      "cell_type": "code",
      "metadata": {
        "colab": {
          "base_uri": "https://localhost:8080/",
          "height": 290
        },
        "id": "pypCtiB6n5yO",
        "outputId": "dd3fbfee-f015-43df-cd33-e367d9d6caf9"
      },
      "source": [
        "#deskripsi statistik\n",
        "df.describe()"
      ],
      "execution_count": null,
      "outputs": [
        {
          "output_type": "execute_result",
          "data": {
            "text/html": [
              "<div>\n",
              "<style scoped>\n",
              "    .dataframe tbody tr th:only-of-type {\n",
              "        vertical-align: middle;\n",
              "    }\n",
              "\n",
              "    .dataframe tbody tr th {\n",
              "        vertical-align: top;\n",
              "    }\n",
              "\n",
              "    .dataframe thead th {\n",
              "        text-align: right;\n",
              "    }\n",
              "</style>\n",
              "<table border=\"1\" class=\"dataframe\">\n",
              "  <thead>\n",
              "    <tr style=\"text-align: right;\">\n",
              "      <th></th>\n",
              "      <th>WetPeriod</th>\n",
              "      <th>Duration (Hrs.)</th>\n",
              "      <th>Avg. Temp(F)</th>\n",
              "      <th>Rainfall (in.)</th>\n",
              "      <th>Wet hrs @ avg temp required for infection</th>\n",
              "    </tr>\n",
              "  </thead>\n",
              "  <tbody>\n",
              "    <tr>\n",
              "      <th>count</th>\n",
              "      <td>1386.000000</td>\n",
              "      <td>1386.000000</td>\n",
              "      <td>1386.000000</td>\n",
              "      <td>1386.000000</td>\n",
              "      <td>1386.000000</td>\n",
              "    </tr>\n",
              "    <tr>\n",
              "      <th>mean</th>\n",
              "      <td>125.113997</td>\n",
              "      <td>9.471212</td>\n",
              "      <td>48.913709</td>\n",
              "      <td>0.111494</td>\n",
              "      <td>12.035859</td>\n",
              "    </tr>\n",
              "    <tr>\n",
              "      <th>std</th>\n",
              "      <td>85.296290</td>\n",
              "      <td>11.350305</td>\n",
              "      <td>14.783013</td>\n",
              "      <td>0.308124</td>\n",
              "      <td>9.593624</td>\n",
              "    </tr>\n",
              "    <tr>\n",
              "      <th>min</th>\n",
              "      <td>1.000000</td>\n",
              "      <td>0.100000</td>\n",
              "      <td>-9.300000</td>\n",
              "      <td>0.000000</td>\n",
              "      <td>0.000000</td>\n",
              "    </tr>\n",
              "    <tr>\n",
              "      <th>25%</th>\n",
              "      <td>50.000000</td>\n",
              "      <td>2.800000</td>\n",
              "      <td>37.300000</td>\n",
              "      <td>0.000000</td>\n",
              "      <td>0.000000</td>\n",
              "    </tr>\n",
              "    <tr>\n",
              "      <th>50%</th>\n",
              "      <td>111.000000</td>\n",
              "      <td>7.800000</td>\n",
              "      <td>50.400000</td>\n",
              "      <td>0.000000</td>\n",
              "      <td>13.000000</td>\n",
              "    </tr>\n",
              "    <tr>\n",
              "      <th>75%</th>\n",
              "      <td>198.000000</td>\n",
              "      <td>12.000000</td>\n",
              "      <td>60.600000</td>\n",
              "      <td>0.050000</td>\n",
              "      <td>18.100000</td>\n",
              "    </tr>\n",
              "    <tr>\n",
              "      <th>max</th>\n",
              "      <td>309.000000</td>\n",
              "      <td>185.000000</td>\n",
              "      <td>85.900000</td>\n",
              "      <td>2.760000</td>\n",
              "      <td>34.800000</td>\n",
              "    </tr>\n",
              "  </tbody>\n",
              "</table>\n",
              "</div>"
            ],
            "text/plain": [
              "         WetPeriod  ...  Wet hrs @ avg temp required for infection\n",
              "count  1386.000000  ...                                1386.000000\n",
              "mean    125.113997  ...                                  12.035859\n",
              "std      85.296290  ...                                   9.593624\n",
              "min       1.000000  ...                                   0.000000\n",
              "25%      50.000000  ...                                   0.000000\n",
              "50%     111.000000  ...                                  13.000000\n",
              "75%     198.000000  ...                                  18.100000\n",
              "max     309.000000  ...                                  34.800000\n",
              "\n",
              "[8 rows x 5 columns]"
            ]
          },
          "metadata": {},
          "execution_count": 5
        }
      ]
    },
    {
      "cell_type": "code",
      "metadata": {
        "colab": {
          "base_uri": "https://localhost:8080/"
        },
        "id": "n4A9zWUIo60F",
        "outputId": "d1070e61-c722-434a-c9be-91e3f2295f06"
      },
      "source": [
        "#jumlah baris, kolom\n",
        "df.shape"
      ],
      "execution_count": null,
      "outputs": [
        {
          "output_type": "execute_result",
          "data": {
            "text/plain": [
              "(1386, 10)"
            ]
          },
          "metadata": {},
          "execution_count": 6
        }
      ]
    },
    {
      "cell_type": "code",
      "metadata": {
        "colab": {
          "base_uri": "https://localhost:8080/",
          "height": 48
        },
        "id": "OSmPbZ0OoEht",
        "outputId": "66bac264-c2f1-49cd-ede2-79c72405f09c"
      },
      "source": [
        "#cek duplikat\n",
        "df[df.duplicated()]"
      ],
      "execution_count": null,
      "outputs": [
        {
          "output_type": "execute_result",
          "data": {
            "text/html": [
              "<div>\n",
              "<style scoped>\n",
              "    .dataframe tbody tr th:only-of-type {\n",
              "        vertical-align: middle;\n",
              "    }\n",
              "\n",
              "    .dataframe tbody tr th {\n",
              "        vertical-align: top;\n",
              "    }\n",
              "\n",
              "    .dataframe thead th {\n",
              "        text-align: right;\n",
              "    }\n",
              "</style>\n",
              "<table border=\"1\" class=\"dataframe\">\n",
              "  <thead>\n",
              "    <tr style=\"text-align: right;\">\n",
              "      <th></th>\n",
              "      <th>WetPeriod</th>\n",
              "      <th>Station</th>\n",
              "      <th>Start of Wetting Period</th>\n",
              "      <th>End of Wetting Period</th>\n",
              "      <th>Duration (Hrs.)</th>\n",
              "      <th>Avg. Temp(F)</th>\n",
              "      <th>Rainfall (in.)</th>\n",
              "      <th>Anthracnose risk</th>\n",
              "      <th>Wet hrs @ avg temp required for infection</th>\n",
              "      <th>Progress toward infection</th>\n",
              "    </tr>\n",
              "  </thead>\n",
              "  <tbody>\n",
              "  </tbody>\n",
              "</table>\n",
              "</div>"
            ],
            "text/plain": [
              "Empty DataFrame\n",
              "Columns: [WetPeriod, Station, Start of Wetting Period, End of Wetting Period, Duration (Hrs.), Avg. Temp(F), Rainfall (in.), Anthracnose risk, Wet hrs @ avg temp required for infection, Progress toward infection]\n",
              "Index: []"
            ]
          },
          "metadata": {},
          "execution_count": 7
        }
      ]
    },
    {
      "cell_type": "code",
      "metadata": {
        "colab": {
          "base_uri": "https://localhost:8080/"
        },
        "id": "e2Z-7DbVoGAF",
        "outputId": "5f61f3bb-1c00-49e2-dcf7-09ae103187a3"
      },
      "source": [
        "#cek jumlah data unik per kolom\n",
        "df.nunique()"
      ],
      "execution_count": null,
      "outputs": [
        {
          "output_type": "execute_result",
          "data": {
            "text/plain": [
              "WetPeriod                                     309\n",
              "Station                                         1\n",
              "Start of Wetting Period                      1386\n",
              "End of Wetting Period                        1386\n",
              "Duration (Hrs.)                               269\n",
              "Avg. Temp(F)                                  515\n",
              "Rainfall (in.)                                112\n",
              "Anthracnose risk                                4\n",
              "Wet hrs @ avg temp required for infection      43\n",
              "Progress toward infection                     185\n",
              "dtype: int64"
            ]
          },
          "metadata": {},
          "execution_count": 8
        }
      ]
    },
    {
      "cell_type": "code",
      "metadata": {
        "colab": {
          "base_uri": "https://localhost:8080/"
        },
        "id": "XCMx6IaRoJyH",
        "outputId": "c68b417d-2f0e-4f18-f582-c4540a480161"
      },
      "source": [
        "#cek data NaN\n",
        "df.isna().sum()"
      ],
      "execution_count": null,
      "outputs": [
        {
          "output_type": "execute_result",
          "data": {
            "text/plain": [
              "WetPeriod                                    0\n",
              "Station                                      0\n",
              "Start of Wetting Period                      0\n",
              "End of Wetting Period                        0\n",
              "Duration (Hrs.)                              0\n",
              "Avg. Temp(F)                                 0\n",
              "Rainfall (in.)                               0\n",
              "Anthracnose risk                             0\n",
              "Wet hrs @ avg temp required for infection    0\n",
              "Progress toward infection                    0\n",
              "dtype: int64"
            ]
          },
          "metadata": {},
          "execution_count": 9
        }
      ]
    },
    {
      "cell_type": "code",
      "metadata": {
        "id": "_I0qJyJ7oW3F"
      },
      "source": [
        "#drop kolom yang tdk perlu di perhitungan\n",
        "df.drop(columns=[\"WetPeriod\",\"Station\",\"Start of Wetting Period\",\"End of Wetting Period\",\"Wet hrs @ avg temp required for infection\",\"Progress toward infection\"], inplace=True)"
      ],
      "execution_count": null,
      "outputs": []
    },
    {
      "cell_type": "code",
      "metadata": {
        "colab": {
          "base_uri": "https://localhost:8080/",
          "height": 408
        },
        "id": "DMRwBa9eqwNG",
        "outputId": "a43c3ced-b706-4f11-8624-1f2bf64fedfb"
      },
      "source": [
        "df"
      ],
      "execution_count": null,
      "outputs": [
        {
          "output_type": "execute_result",
          "data": {
            "text/html": [
              "<div>\n",
              "<style scoped>\n",
              "    .dataframe tbody tr th:only-of-type {\n",
              "        vertical-align: middle;\n",
              "    }\n",
              "\n",
              "    .dataframe tbody tr th {\n",
              "        vertical-align: top;\n",
              "    }\n",
              "\n",
              "    .dataframe thead th {\n",
              "        text-align: right;\n",
              "    }\n",
              "</style>\n",
              "<table border=\"1\" class=\"dataframe\">\n",
              "  <thead>\n",
              "    <tr style=\"text-align: right;\">\n",
              "      <th></th>\n",
              "      <th>Duration (Hrs.)</th>\n",
              "      <th>Avg. Temp(F)</th>\n",
              "      <th>Rainfall (in.)</th>\n",
              "      <th>Anthracnose risk</th>\n",
              "    </tr>\n",
              "  </thead>\n",
              "  <tbody>\n",
              "    <tr>\n",
              "      <th>0</th>\n",
              "      <td>0.6</td>\n",
              "      <td>10.6</td>\n",
              "      <td>0.00</td>\n",
              "      <td>None</td>\n",
              "    </tr>\n",
              "    <tr>\n",
              "      <th>1</th>\n",
              "      <td>46.3</td>\n",
              "      <td>38.0</td>\n",
              "      <td>0.66</td>\n",
              "      <td>None</td>\n",
              "    </tr>\n",
              "    <tr>\n",
              "      <th>2</th>\n",
              "      <td>2.8</td>\n",
              "      <td>32.0</td>\n",
              "      <td>0.02</td>\n",
              "      <td>None</td>\n",
              "    </tr>\n",
              "    <tr>\n",
              "      <th>3</th>\n",
              "      <td>1.2</td>\n",
              "      <td>38.7</td>\n",
              "      <td>0.00</td>\n",
              "      <td>None</td>\n",
              "    </tr>\n",
              "    <tr>\n",
              "      <th>4</th>\n",
              "      <td>11.2</td>\n",
              "      <td>36.0</td>\n",
              "      <td>0.05</td>\n",
              "      <td>None</td>\n",
              "    </tr>\n",
              "    <tr>\n",
              "      <th>...</th>\n",
              "      <td>...</td>\n",
              "      <td>...</td>\n",
              "      <td>...</td>\n",
              "      <td>...</td>\n",
              "    </tr>\n",
              "    <tr>\n",
              "      <th>1381</th>\n",
              "      <td>1.8</td>\n",
              "      <td>29.7</td>\n",
              "      <td>0.00</td>\n",
              "      <td>None</td>\n",
              "    </tr>\n",
              "    <tr>\n",
              "      <th>1382</th>\n",
              "      <td>12.6</td>\n",
              "      <td>33.9</td>\n",
              "      <td>0.02</td>\n",
              "      <td>None</td>\n",
              "    </tr>\n",
              "    <tr>\n",
              "      <th>1383</th>\n",
              "      <td>6.6</td>\n",
              "      <td>37.2</td>\n",
              "      <td>0.02</td>\n",
              "      <td>None</td>\n",
              "    </tr>\n",
              "    <tr>\n",
              "      <th>1384</th>\n",
              "      <td>6.3</td>\n",
              "      <td>37.4</td>\n",
              "      <td>0.12</td>\n",
              "      <td>None</td>\n",
              "    </tr>\n",
              "    <tr>\n",
              "      <th>1385</th>\n",
              "      <td>13.6</td>\n",
              "      <td>33.1</td>\n",
              "      <td>0.24</td>\n",
              "      <td>None</td>\n",
              "    </tr>\n",
              "  </tbody>\n",
              "</table>\n",
              "<p>1386 rows × 4 columns</p>\n",
              "</div>"
            ],
            "text/plain": [
              "      Duration (Hrs.)  Avg. Temp(F)  Rainfall (in.) Anthracnose risk\n",
              "0                 0.6          10.6            0.00             None\n",
              "1                46.3          38.0            0.66             None\n",
              "2                 2.8          32.0            0.02             None\n",
              "3                 1.2          38.7            0.00             None\n",
              "4                11.2          36.0            0.05             None\n",
              "...               ...           ...             ...              ...\n",
              "1381              1.8          29.7            0.00             None\n",
              "1382             12.6          33.9            0.02             None\n",
              "1383              6.6          37.2            0.02             None\n",
              "1384              6.3          37.4            0.12             None\n",
              "1385             13.6          33.1            0.24             None\n",
              "\n",
              "[1386 rows x 4 columns]"
            ]
          },
          "metadata": {},
          "execution_count": 11
        }
      ]
    },
    {
      "cell_type": "code",
      "metadata": {
        "colab": {
          "base_uri": "https://localhost:8080/"
        },
        "id": "btyYhziHstlt",
        "outputId": "b39128e7-1fa8-42ea-9de9-8a2cbf202937"
      },
      "source": [
        "#Jumlah data yg tidak beresiko antarknosa\n",
        "df[\"Anthracnose risk\"].eq(\"None\").sum()"
      ],
      "execution_count": null,
      "outputs": [
        {
          "output_type": "execute_result",
          "data": {
            "text/plain": [
              "1253"
            ]
          },
          "metadata": {},
          "execution_count": 12
        }
      ]
    },
    {
      "cell_type": "code",
      "metadata": {
        "colab": {
          "base_uri": "https://localhost:8080/"
        },
        "id": "DrNysY3AuN5e",
        "outputId": "0c5cb50c-a9f0-4fbf-ddba-3683ce06d422"
      },
      "source": [
        "#Jumlah data yg beresiko antarknosa rendah\n",
        "df[\"Anthracnose risk\"].eq(\"Low\").sum()"
      ],
      "execution_count": null,
      "outputs": [
        {
          "output_type": "execute_result",
          "data": {
            "text/plain": [
              "95"
            ]
          },
          "metadata": {},
          "execution_count": 13
        }
      ]
    },
    {
      "cell_type": "code",
      "metadata": {
        "colab": {
          "base_uri": "https://localhost:8080/"
        },
        "id": "srJWMd1nuT8R",
        "outputId": "27beda3f-7f3f-4c31-b317-ec0995c765ea"
      },
      "source": [
        "#Jumlah data yg beresiko antarknosa sedang\n",
        "df[\"Anthracnose risk\"].eq(\"Moderate\").sum()"
      ],
      "execution_count": null,
      "outputs": [
        {
          "output_type": "execute_result",
          "data": {
            "text/plain": [
              "29"
            ]
          },
          "metadata": {},
          "execution_count": 14
        }
      ]
    },
    {
      "cell_type": "code",
      "metadata": {
        "colab": {
          "base_uri": "https://localhost:8080/"
        },
        "id": "0pwIA2Pbuy8c",
        "outputId": "a696c281-eafd-45c0-a656-639fd64303e6"
      },
      "source": [
        "#Jumlah data yg beresiko antarknosa tinggi\n",
        "df[\"Anthracnose risk\"].eq(\"High\").sum()"
      ],
      "execution_count": null,
      "outputs": [
        {
          "output_type": "execute_result",
          "data": {
            "text/plain": [
              "9"
            ]
          },
          "metadata": {},
          "execution_count": 15
        }
      ]
    },
    {
      "cell_type": "code",
      "metadata": {
        "id": "xFLc5HrZLB1H"
      },
      "source": [
        "#Dividing data into features and labels\n",
        "feature_columns = ['Duration (Hrs.)', 'Avg. Temp(F)', 'Rainfall (in.)']\n",
        "X = df[feature_columns].values\n",
        "y = df['Anthracnose risk'].values"
      ],
      "execution_count": null,
      "outputs": []
    },
    {
      "cell_type": "code",
      "metadata": {
        "id": "LwSUqiHiLhP_"
      },
      "source": [
        "#Label encoding\n",
        "from sklearn.preprocessing import LabelEncoder\n",
        "le = LabelEncoder()\n",
        "y = le.fit_transform(y)"
      ],
      "execution_count": null,
      "outputs": []
    },
    {
      "cell_type": "code",
      "metadata": {
        "id": "8HyvHcrTLuEt"
      },
      "source": [
        "#split train test\n",
        "from sklearn.model_selection import train_test_split\n",
        "X_train, X_test, y_train, y_test = train_test_split(X, y, test_size = 0.2, random_state = 0)"
      ],
      "execution_count": null,
      "outputs": []
    },
    {
      "cell_type": "code",
      "metadata": {
        "colab": {
          "base_uri": "https://localhost:8080/"
        },
        "id": "uiZa1IYghIGx",
        "outputId": "e1ba66bb-c7bb-4f9f-e8ea-615b4c013c4a"
      },
      "source": [
        "from imblearn.over_sampling import SMOTE\n",
        "sm = SMOTE(random_state = 42)\n",
        "X_train_new, y_train_new = sm.fit_sample(X_train, y_train)"
      ],
      "execution_count": null,
      "outputs": [
        {
          "output_type": "stream",
          "text": [
            "/usr/local/lib/python3.7/dist-packages/sklearn/utils/deprecation.py:87: FutureWarning: Function safe_indexing is deprecated; safe_indexing is deprecated in version 0.22 and will be removed in version 0.24.\n",
            "  warnings.warn(msg, category=FutureWarning)\n",
            "/usr/local/lib/python3.7/dist-packages/sklearn/utils/deprecation.py:87: FutureWarning: Function safe_indexing is deprecated; safe_indexing is deprecated in version 0.22 and will be removed in version 0.24.\n",
            "  warnings.warn(msg, category=FutureWarning)\n",
            "/usr/local/lib/python3.7/dist-packages/sklearn/utils/deprecation.py:87: FutureWarning: Function safe_indexing is deprecated; safe_indexing is deprecated in version 0.22 and will be removed in version 0.24.\n",
            "  warnings.warn(msg, category=FutureWarning)\n"
          ],
          "name": "stderr"
        }
      ]
    },
    {
      "cell_type": "code",
      "metadata": {
        "colab": {
          "base_uri": "https://localhost:8080/",
          "height": 408
        },
        "id": "R8zS1IOHhaew",
        "outputId": "94f92d77-1406-46a2-9e89-3d6ded66c2a9"
      },
      "source": [
        "X_train_new"
      ],
      "execution_count": null,
      "outputs": [
        {
          "output_type": "execute_result",
          "data": {
            "text/html": [
              "<div>\n",
              "<style scoped>\n",
              "    .dataframe tbody tr th:only-of-type {\n",
              "        vertical-align: middle;\n",
              "    }\n",
              "\n",
              "    .dataframe tbody tr th {\n",
              "        vertical-align: top;\n",
              "    }\n",
              "\n",
              "    .dataframe thead th {\n",
              "        text-align: right;\n",
              "    }\n",
              "</style>\n",
              "<table border=\"1\" class=\"dataframe\">\n",
              "  <thead>\n",
              "    <tr style=\"text-align: right;\">\n",
              "      <th></th>\n",
              "      <th>Duration (Hrs.)</th>\n",
              "      <th>Avg. Temp(F)</th>\n",
              "      <th>Rainfall (in.)</th>\n",
              "      <th>Anthracnose risk</th>\n",
              "    </tr>\n",
              "  </thead>\n",
              "  <tbody>\n",
              "    <tr>\n",
              "      <th>0</th>\n",
              "      <td>0.6</td>\n",
              "      <td>10.6</td>\n",
              "      <td>0.00</td>\n",
              "      <td>None</td>\n",
              "    </tr>\n",
              "    <tr>\n",
              "      <th>1</th>\n",
              "      <td>46.3</td>\n",
              "      <td>38.0</td>\n",
              "      <td>0.66</td>\n",
              "      <td>None</td>\n",
              "    </tr>\n",
              "    <tr>\n",
              "      <th>2</th>\n",
              "      <td>2.8</td>\n",
              "      <td>32.0</td>\n",
              "      <td>0.02</td>\n",
              "      <td>None</td>\n",
              "    </tr>\n",
              "    <tr>\n",
              "      <th>3</th>\n",
              "      <td>1.2</td>\n",
              "      <td>38.7</td>\n",
              "      <td>0.00</td>\n",
              "      <td>None</td>\n",
              "    </tr>\n",
              "    <tr>\n",
              "      <th>4</th>\n",
              "      <td>11.2</td>\n",
              "      <td>36.0</td>\n",
              "      <td>0.05</td>\n",
              "      <td>None</td>\n",
              "    </tr>\n",
              "    <tr>\n",
              "      <th>...</th>\n",
              "      <td>...</td>\n",
              "      <td>...</td>\n",
              "      <td>...</td>\n",
              "      <td>...</td>\n",
              "    </tr>\n",
              "    <tr>\n",
              "      <th>1381</th>\n",
              "      <td>1.8</td>\n",
              "      <td>29.7</td>\n",
              "      <td>0.00</td>\n",
              "      <td>None</td>\n",
              "    </tr>\n",
              "    <tr>\n",
              "      <th>1382</th>\n",
              "      <td>12.6</td>\n",
              "      <td>33.9</td>\n",
              "      <td>0.02</td>\n",
              "      <td>None</td>\n",
              "    </tr>\n",
              "    <tr>\n",
              "      <th>1383</th>\n",
              "      <td>6.6</td>\n",
              "      <td>37.2</td>\n",
              "      <td>0.02</td>\n",
              "      <td>None</td>\n",
              "    </tr>\n",
              "    <tr>\n",
              "      <th>1384</th>\n",
              "      <td>6.3</td>\n",
              "      <td>37.4</td>\n",
              "      <td>0.12</td>\n",
              "      <td>None</td>\n",
              "    </tr>\n",
              "    <tr>\n",
              "      <th>1385</th>\n",
              "      <td>13.6</td>\n",
              "      <td>33.1</td>\n",
              "      <td>0.24</td>\n",
              "      <td>None</td>\n",
              "    </tr>\n",
              "  </tbody>\n",
              "</table>\n",
              "<p>1386 rows × 4 columns</p>\n",
              "</div>"
            ],
            "text/plain": [
              "      Duration (Hrs.)  Avg. Temp(F)  Rainfall (in.) Anthracnose risk\n",
              "0                 0.6          10.6            0.00             None\n",
              "1                46.3          38.0            0.66             None\n",
              "2                 2.8          32.0            0.02             None\n",
              "3                 1.2          38.7            0.00             None\n",
              "4                11.2          36.0            0.05             None\n",
              "...               ...           ...             ...              ...\n",
              "1381              1.8          29.7            0.00             None\n",
              "1382             12.6          33.9            0.02             None\n",
              "1383              6.6          37.2            0.02             None\n",
              "1384              6.3          37.4            0.12             None\n",
              "1385             13.6          33.1            0.24             None\n",
              "\n",
              "[1386 rows x 4 columns]"
            ]
          },
          "metadata": {},
          "execution_count": 34
        }
      ]
    },
    {
      "cell_type": "code",
      "metadata": {
        "colab": {
          "base_uri": "https://localhost:8080/"
        },
        "id": "TGSN0hNrlbBm",
        "outputId": "2181eda1-f7c3-4daf-c0ea-0f1762ec5c29"
      },
      "source": [
        "y_train_new"
      ],
      "execution_count": 44,
      "outputs": [
        {
          "output_type": "execute_result",
          "data": {
            "text/plain": [
              "array([3, 3, 3, ..., 2, 2, 2])"
            ]
          },
          "metadata": {},
          "execution_count": 44
        }
      ]
    },
    {
      "cell_type": "code",
      "metadata": {
        "colab": {
          "base_uri": "https://localhost:8080/"
        },
        "id": "gZMHPTGGlRww",
        "outputId": "636a319b-0eb2-4c8c-c3e6-d426e93e87ea"
      },
      "source": [
        "len(X_train_new)"
      ],
      "execution_count": 43,
      "outputs": [
        {
          "output_type": "execute_result",
          "data": {
            "text/plain": [
              "3992"
            ]
          },
          "metadata": {},
          "execution_count": 43
        }
      ]
    },
    {
      "cell_type": "code",
      "metadata": {
        "colab": {
          "base_uri": "https://localhost:8080/"
        },
        "id": "HpIuBcAShoWQ",
        "outputId": "8f362c0c-5f7c-4d7f-9dbe-c5742ad0aaf3"
      },
      "source": [
        "len(y_train_new)"
      ],
      "execution_count": 41,
      "outputs": [
        {
          "output_type": "execute_result",
          "data": {
            "text/plain": [
              "3992"
            ]
          },
          "metadata": {},
          "execution_count": 41
        }
      ]
    },
    {
      "cell_type": "code",
      "metadata": {
        "colab": {
          "base_uri": "https://localhost:8080/",
          "height": 792
        },
        "id": "ONO1IvQuMZIN",
        "outputId": "bc520d5b-f2c1-4617-a542-77548269bd86"
      },
      "source": [
        "#boxplot,cek outlier\n",
        "plt.figure()\n",
        "df.boxplot(by=\"Anthracnose risk\", figsize=(15, 10))\n",
        "plt.show()"
      ],
      "execution_count": null,
      "outputs": [
        {
          "output_type": "stream",
          "text": [
            "/usr/local/lib/python3.7/dist-packages/numpy/core/_asarray.py:83: VisibleDeprecationWarning: Creating an ndarray from ragged nested sequences (which is a list-or-tuple of lists-or-tuples-or ndarrays with different lengths or shapes) is deprecated. If you meant to do this, you must specify 'dtype=object' when creating the ndarray\n",
            "  return array(a, dtype, copy=False, order=order)\n",
            "/usr/local/lib/python3.7/dist-packages/numpy/core/_asarray.py:83: VisibleDeprecationWarning: Creating an ndarray from ragged nested sequences (which is a list-or-tuple of lists-or-tuples-or ndarrays with different lengths or shapes) is deprecated. If you meant to do this, you must specify 'dtype=object' when creating the ndarray\n",
            "  return array(a, dtype, copy=False, order=order)\n",
            "/usr/local/lib/python3.7/dist-packages/numpy/core/_asarray.py:83: VisibleDeprecationWarning: Creating an ndarray from ragged nested sequences (which is a list-or-tuple of lists-or-tuples-or ndarrays with different lengths or shapes) is deprecated. If you meant to do this, you must specify 'dtype=object' when creating the ndarray\n",
            "  return array(a, dtype, copy=False, order=order)\n"
          ],
          "name": "stderr"
        },
        {
          "output_type": "display_data",
          "data": {
            "text/plain": [
              "<Figure size 432x288 with 0 Axes>"
            ]
          },
          "metadata": {}
        },
        {
          "output_type": "display_data",
          "data": {
            "image/png": "[encoded data removed]",
            "text/plain": [
              "<Figure size 1080x720 with 4 Axes>"
            ]
          },
          "metadata": {
            "needs_background": "light"
          }
        }
      ]
    },
    {
      "cell_type": "code",
      "metadata": {
        "colab": {
          "base_uri": "https://localhost:8080/",
          "height": 487
        },
        "id": "zvhWvRN7Napt",
        "outputId": "05b85d8c-8f3b-4174-831b-3d5426f5c7e1"
      },
      "source": [
        "#korelasi\n",
        "corrmat = df.corr()\n",
        "f, ax = plt.subplots(figsize=(9, 8))\n",
        "sns.heatmap(corrmat, ax = ax, cmap =\"YlGnBu\", linewidths = 0.1, annot=True)\n",
        "plt.show()"
      ],
      "execution_count": null,
      "outputs": [
        {
          "output_type": "display_data",
          "data": {
            "image/png": "[encoded data removed]",
            "text/plain": [
              "<Figure size 648x576 with 2 Axes>"
            ]
          },
          "metadata": {
            "needs_background": "light"
          }
        }
      ]
    },
    {
      "cell_type": "markdown",
      "metadata": {
        "id": "m78V_Tsfu-Ra"
      },
      "source": [
        "# **Data Modeling**"
      ]
    },
    {
      "cell_type": "markdown",
      "metadata": {
        "id": "Gk2KTeX9xGlE"
      },
      "source": [
        "###**KNN**"
      ]
    },
    {
      "cell_type": "code",
      "metadata": {
        "id": "PoVwopTmxUjD"
      },
      "source": [
        "# Fitting clasifier to the Training set\n",
        "# Loading libraries\n",
        "from sklearn.neighbors import KNeighborsClassifier\n",
        "from sklearn.metrics import confusion_matrix, accuracy_score\n",
        "from sklearn.model_selection import cross_val_score\n",
        "\n",
        "# Instantiate learning model (k = 3)\n",
        "classifier = KNeighborsClassifier(n_neighbors=3)\n",
        "\n",
        "# Fitting the model\n",
        "classifier.fit(X_train, y_train)\n",
        "\n",
        "# Predicting the Test set results\n",
        "y_pred = classifier.predict(X_test)"
      ],
      "execution_count": null,
      "outputs": []
    },
    {
      "cell_type": "code",
      "metadata": {
        "colab": {
          "base_uri": "https://localhost:8080/"
        },
        "id": "3ul9X7z6PANL",
        "outputId": "f30f5314-57c8-4fcc-e8f6-f1d1ee6289d7"
      },
      "source": [
        "cm = confusion_matrix(y_test, y_pred)\n",
        "cm"
      ],
      "execution_count": null,
      "outputs": [
        {
          "output_type": "execute_result",
          "data": {
            "text/plain": [
              "array([[  1,   0,   0,   0],\n",
              "       [  0,  12,   1,   3],\n",
              "       [  0,   1,   5,   0],\n",
              "       [  0,   1,   0, 254]])"
            ]
          },
          "metadata": {},
          "execution_count": 22
        }
      ]
    },
    {
      "cell_type": "code",
      "metadata": {
        "colab": {
          "base_uri": "https://localhost:8080/"
        },
        "id": "Lyy4rHxOPJyL",
        "outputId": "82a78a80-1fa6-4ab8-829f-8777b968693c"
      },
      "source": [
        "accuracy = accuracy_score(y_test, y_pred)*100\n",
        "print('Accuracy of our model is equal ' + str(round(accuracy, 2)) + ' %.')"
      ],
      "execution_count": null,
      "outputs": [
        {
          "output_type": "stream",
          "text": [
            "Accuracy of our model is equal 97.84 %.\n"
          ],
          "name": "stdout"
        }
      ]
    },
    {
      "cell_type": "code",
      "metadata": {
        "colab": {
          "base_uri": "https://localhost:8080/"
        },
        "id": "Ki0aIfbyPLxb",
        "outputId": "1b5193cc-2565-4865-84c0-82ccbf2c7ed7"
      },
      "source": [
        "# creating list of K for KNN\n",
        "k_list = list(range(1,50,2))\n",
        "# creating list of cv scores\n",
        "cv_scores = []\n",
        "\n",
        "# perform 10-fold cross validation\n",
        "for k in k_list:\n",
        "    knn = KNeighborsClassifier(n_neighbors=k)\n",
        "    scores = cross_val_score(knn, X_train, y_train, cv=10, scoring='accuracy')\n",
        "    cv_scores.append(scores.mean())"
      ],
      "execution_count": null,
      "outputs": [
        {
          "output_type": "stream",
          "text": [
            "/usr/local/lib/python3.7/dist-packages/sklearn/model_selection/_split.py:667: UserWarning: The least populated class in y has only 8 members, which is less than n_splits=10.\n",
            "  % (min_groups, self.n_splits)), UserWarning)\n",
            "/usr/local/lib/python3.7/dist-packages/sklearn/model_selection/_split.py:667: UserWarning: The least populated class in y has only 8 members, which is less than n_splits=10.\n",
            "  % (min_groups, self.n_splits)), UserWarning)\n",
            "/usr/local/lib/python3.7/dist-packages/sklearn/model_selection/_split.py:667: UserWarning: The least populated class in y has only 8 members, which is less than n_splits=10.\n",
            "  % (min_groups, self.n_splits)), UserWarning)\n",
            "/usr/local/lib/python3.7/dist-packages/sklearn/model_selection/_split.py:667: UserWarning: The least populated class in y has only 8 members, which is less than n_splits=10.\n",
            "  % (min_groups, self.n_splits)), UserWarning)\n",
            "/usr/local/lib/python3.7/dist-packages/sklearn/model_selection/_split.py:667: UserWarning: The least populated class in y has only 8 members, which is less than n_splits=10.\n",
            "  % (min_groups, self.n_splits)), UserWarning)\n",
            "/usr/local/lib/python3.7/dist-packages/sklearn/model_selection/_split.py:667: UserWarning: The least populated class in y has only 8 members, which is less than n_splits=10.\n",
            "  % (min_groups, self.n_splits)), UserWarning)\n",
            "/usr/local/lib/python3.7/dist-packages/sklearn/model_selection/_split.py:667: UserWarning: The least populated class in y has only 8 members, which is less than n_splits=10.\n",
            "  % (min_groups, self.n_splits)), UserWarning)\n",
            "/usr/local/lib/python3.7/dist-packages/sklearn/model_selection/_split.py:667: UserWarning: The least populated class in y has only 8 members, which is less than n_splits=10.\n",
            "  % (min_groups, self.n_splits)), UserWarning)\n",
            "/usr/local/lib/python3.7/dist-packages/sklearn/model_selection/_split.py:667: UserWarning: The least populated class in y has only 8 members, which is less than n_splits=10.\n",
            "  % (min_groups, self.n_splits)), UserWarning)\n",
            "/usr/local/lib/python3.7/dist-packages/sklearn/model_selection/_split.py:667: UserWarning: The least populated class in y has only 8 members, which is less than n_splits=10.\n",
            "  % (min_groups, self.n_splits)), UserWarning)\n",
            "/usr/local/lib/python3.7/dist-packages/sklearn/model_selection/_split.py:667: UserWarning: The least populated class in y has only 8 members, which is less than n_splits=10.\n",
            "  % (min_groups, self.n_splits)), UserWarning)\n",
            "/usr/local/lib/python3.7/dist-packages/sklearn/model_selection/_split.py:667: UserWarning: The least populated class in y has only 8 members, which is less than n_splits=10.\n",
            "  % (min_groups, self.n_splits)), UserWarning)\n",
            "/usr/local/lib/python3.7/dist-packages/sklearn/model_selection/_split.py:667: UserWarning: The least populated class in y has only 8 members, which is less than n_splits=10.\n",
            "  % (min_groups, self.n_splits)), UserWarning)\n",
            "/usr/local/lib/python3.7/dist-packages/sklearn/model_selection/_split.py:667: UserWarning: The least populated class in y has only 8 members, which is less than n_splits=10.\n",
            "  % (min_groups, self.n_splits)), UserWarning)\n",
            "/usr/local/lib/python3.7/dist-packages/sklearn/model_selection/_split.py:667: UserWarning: The least populated class in y has only 8 members, which is less than n_splits=10.\n",
            "  % (min_groups, self.n_splits)), UserWarning)\n",
            "/usr/local/lib/python3.7/dist-packages/sklearn/model_selection/_split.py:667: UserWarning: The least populated class in y has only 8 members, which is less than n_splits=10.\n",
            "  % (min_groups, self.n_splits)), UserWarning)\n",
            "/usr/local/lib/python3.7/dist-packages/sklearn/model_selection/_split.py:667: UserWarning: The least populated class in y has only 8 members, which is less than n_splits=10.\n",
            "  % (min_groups, self.n_splits)), UserWarning)\n",
            "/usr/local/lib/python3.7/dist-packages/sklearn/model_selection/_split.py:667: UserWarning: The least populated class in y has only 8 members, which is less than n_splits=10.\n",
            "  % (min_groups, self.n_splits)), UserWarning)\n",
            "/usr/local/lib/python3.7/dist-packages/sklearn/model_selection/_split.py:667: UserWarning: The least populated class in y has only 8 members, which is less than n_splits=10.\n",
            "  % (min_groups, self.n_splits)), UserWarning)\n",
            "/usr/local/lib/python3.7/dist-packages/sklearn/model_selection/_split.py:667: UserWarning: The least populated class in y has only 8 members, which is less than n_splits=10.\n",
            "  % (min_groups, self.n_splits)), UserWarning)\n",
            "/usr/local/lib/python3.7/dist-packages/sklearn/model_selection/_split.py:667: UserWarning: The least populated class in y has only 8 members, which is less than n_splits=10.\n",
            "  % (min_groups, self.n_splits)), UserWarning)\n",
            "/usr/local/lib/python3.7/dist-packages/sklearn/model_selection/_split.py:667: UserWarning: The least populated class in y has only 8 members, which is less than n_splits=10.\n",
            "  % (min_groups, self.n_splits)), UserWarning)\n",
            "/usr/local/lib/python3.7/dist-packages/sklearn/model_selection/_split.py:667: UserWarning: The least populated class in y has only 8 members, which is less than n_splits=10.\n",
            "  % (min_groups, self.n_splits)), UserWarning)\n",
            "/usr/local/lib/python3.7/dist-packages/sklearn/model_selection/_split.py:667: UserWarning: The least populated class in y has only 8 members, which is less than n_splits=10.\n",
            "  % (min_groups, self.n_splits)), UserWarning)\n",
            "/usr/local/lib/python3.7/dist-packages/sklearn/model_selection/_split.py:667: UserWarning: The least populated class in y has only 8 members, which is less than n_splits=10.\n",
            "  % (min_groups, self.n_splits)), UserWarning)\n"
          ],
          "name": "stderr"
        }
      ]
    },
    {
      "cell_type": "code",
      "metadata": {
        "colab": {
          "base_uri": "https://localhost:8080/",
          "height": 430
        },
        "id": "P3wPzjv2PRhU",
        "outputId": "8c187311-408c-47b8-ea53-6666f6a8838b"
      },
      "source": [
        "# changing to misclassification error\n",
        "MSE = [1 - x for x in cv_scores]\n",
        "\n",
        "plt.figure()\n",
        "plt.figure(figsize=(9,6))\n",
        "plt.title('The optimal number of neighbors', fontsize=20, fontweight='bold')\n",
        "plt.xlabel('Number of Neighbors K', fontsize=15)\n",
        "plt.ylabel('Misclassification Error', fontsize=15)\n",
        "sns.set_style(\"whitegrid\")\n",
        "plt.plot(k_list, MSE)\n",
        "\n",
        "plt.show()"
      ],
      "execution_count": null,
      "outputs": [
        {
          "output_type": "display_data",
          "data": {
            "text/plain": [
              "<Figure size 432x288 with 0 Axes>"
            ]
          },
          "metadata": {}
        },
        {
          "output_type": "display_data",
          "data": {
            "image/png": "[encoded data removed]",
            "text/plain": [
              "<Figure size 648x432 with 1 Axes>"
            ]
          },
          "metadata": {
            "needs_background": "light"
          }
        }
      ]
    },
    {
      "cell_type": "code",
      "metadata": {
        "colab": {
          "base_uri": "https://localhost:8080/"
        },
        "id": "Z9XE4be4PbV8",
        "outputId": "501b517b-bae6-40f5-ec88-f66ad240682f"
      },
      "source": [
        "# finding best k\n",
        "best_k = k_list[MSE.index(min(MSE))]\n",
        "print(\"The optimal number of neighbors is %d.\" % best_k)"
      ],
      "execution_count": null,
      "outputs": [
        {
          "output_type": "stream",
          "text": [
            "The optimal number of neighbors is 3.\n"
          ],
          "name": "stdout"
        }
      ]
    },
    {
      "cell_type": "markdown",
      "metadata": {
        "id": "n7yPMwRHPrMD"
      },
      "source": [
        "###**Naive Bayes**"
      ]
    },
    {
      "cell_type": "code",
      "metadata": {
        "id": "iQCHxhVUP13k"
      },
      "source": [
        "from sklearn.naive_bayes import GaussianNB\n",
        "gaussian = GaussianNB()\n",
        "gaussian.fit(X_train, y_train)\n",
        "Y_pred = gaussian.predict(X_test) \n",
        "accuracy_nb=round(accuracy_score(y_test,Y_pred)* 100, 2)\n",
        "acc_gaussian = round(gaussian.score(X_train, y_train) * 100, 2)\n",
        "\n",
        "# Fitting the model\n",
        "classifier.fit(X_train, y_train)\n",
        "\n",
        "# Predicting the Test set results\n",
        "y_pred = classifier.predict(X_test)"
      ],
      "execution_count": null,
      "outputs": []
    },
    {
      "cell_type": "code",
      "metadata": {
        "colab": {
          "base_uri": "https://localhost:8080/"
        },
        "id": "yjC5Qg-ASKH9",
        "outputId": "c60694b4-f742-4314-852a-18e394c4d99e"
      },
      "source": [
        "cm = confusion_matrix(y_test, y_pred)\n",
        "cm"
      ],
      "execution_count": null,
      "outputs": [
        {
          "output_type": "execute_result",
          "data": {
            "text/plain": [
              "array([[  1,   0,   0,   0],\n",
              "       [  0,  12,   1,   3],\n",
              "       [  0,   1,   5,   0],\n",
              "       [  0,   1,   0, 254]])"
            ]
          },
          "metadata": {},
          "execution_count": 28
        }
      ]
    },
    {
      "cell_type": "code",
      "metadata": {
        "colab": {
          "base_uri": "https://localhost:8080/"
        },
        "id": "NZEKy7ODSjKg",
        "outputId": "f0b71469-fd4d-4cfe-d18c-7281f1d4d34b"
      },
      "source": [
        "accuracy = accuracy_score(y_test, y_pred)*100\n",
        "print('Accuracy = ' + str(round(accuracy, 2)) + ' %.')"
      ],
      "execution_count": null,
      "outputs": [
        {
          "output_type": "stream",
          "text": [
            "Accuracy = 97.84 %.\n"
          ],
          "name": "stdout"
        }
      ]
    }
  ]
}
