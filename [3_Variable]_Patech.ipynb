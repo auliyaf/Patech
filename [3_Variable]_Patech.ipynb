{
  "nbformat": 4,
  "nbformat_minor": 0,
  "metadata": {
    "colab": {
      "name": "[3 Variable] Patech",
      "provenance": [],
      "authorship_tag": "ABX9TyPoZruoEgmHleafy4UqHUVU",
      "include_colab_link": true
    },
    "kernelspec": {
      "name": "python3",
      "display_name": "Python 3"
    },
    "language_info": {
      "name": "python"
    }
  },
  "cells": [
    {
      "cell_type": "markdown",
      "metadata": {
        "id": "view-in-github",
        "colab_type": "text"
      },
      "source": [
        "<a href=\"https://colab.research.google.com/github/auliyaf/Patech/blob/main/%5B3_Variable%5D_Patech.ipynb\" target=\"_parent\"><img src=\"https://colab.research.google.com/assets/colab-badge.svg\" alt=\"Open In Colab\"/></a>"
      ]
    },
    {
      "cell_type": "code",
      "metadata": {
        "id": "gBhKt2-Pn0DK"
      },
      "source": [
        "import pandas as pd\n",
        "import numpy as np\n",
        "import matplotlib.pyplot as plt\n",
        "import seaborn as sns\n",
        "import io\n",
        "import sklearn\n",
        "from sklearn.model_selection import train_test_split"
      ],
      "execution_count": 8,
      "outputs": []
    },
    {
      "cell_type": "code",
      "metadata": {
        "id": "eDSHPNrhoThO"
      },
      "source": [
        "url = 'https://raw.githubusercontent.com/auliyaf/Patech/main/DatasetPatechClean.csv'\n",
        "df = pd.read_csv(url)\n",
        "\n",
        "indexNames = df[ df['AnthracnoseRisk'] == \"None\" ].index\n",
        "df.drop(indexNames , inplace=True)"
      ],
      "execution_count": 9,
      "outputs": []
    },
    {
      "cell_type": "code",
      "metadata": {
        "colab": {
          "base_uri": "https://localhost:8080/",
          "height": 200
        },
        "id": "79HValZiockF",
        "outputId": "1e72af8a-9d8d-4a0e-a5ff-ab2e25d096d7"
      },
      "source": [
        "df.head()"
      ],
      "execution_count": 10,
      "outputs": [
        {
          "output_type": "execute_result",
          "data": {
            "text/html": [
              "<div>\n",
              "<style scoped>\n",
              "    .dataframe tbody tr th:only-of-type {\n",
              "        vertical-align: middle;\n",
              "    }\n",
              "\n",
              "    .dataframe tbody tr th {\n",
              "        vertical-align: top;\n",
              "    }\n",
              "\n",
              "    .dataframe thead th {\n",
              "        text-align: right;\n",
              "    }\n",
              "</style>\n",
              "<table border=\"1\" class=\"dataframe\">\n",
              "  <thead>\n",
              "    <tr style=\"text-align: right;\">\n",
              "      <th></th>\n",
              "      <th>DurationHrs</th>\n",
              "      <th>AvgTempF</th>\n",
              "      <th>Rainfallin</th>\n",
              "      <th>AnthracnoseRisk</th>\n",
              "    </tr>\n",
              "  </thead>\n",
              "  <tbody>\n",
              "    <tr>\n",
              "      <th>0</th>\n",
              "      <td>71.2</td>\n",
              "      <td>54.6</td>\n",
              "      <td>1.92</td>\n",
              "      <td>High</td>\n",
              "    </tr>\n",
              "    <tr>\n",
              "      <th>1</th>\n",
              "      <td>61.8</td>\n",
              "      <td>43.8</td>\n",
              "      <td>0.81</td>\n",
              "      <td>High</td>\n",
              "    </tr>\n",
              "    <tr>\n",
              "      <th>2</th>\n",
              "      <td>52.3</td>\n",
              "      <td>48.4</td>\n",
              "      <td>2.60</td>\n",
              "      <td>High</td>\n",
              "    </tr>\n",
              "    <tr>\n",
              "      <th>3</th>\n",
              "      <td>59.3</td>\n",
              "      <td>53.4</td>\n",
              "      <td>1.98</td>\n",
              "      <td>High</td>\n",
              "    </tr>\n",
              "    <tr>\n",
              "      <th>4</th>\n",
              "      <td>74.0</td>\n",
              "      <td>55.8</td>\n",
              "      <td>0.66</td>\n",
              "      <td>High</td>\n",
              "    </tr>\n",
              "  </tbody>\n",
              "</table>\n",
              "</div>"
            ],
            "text/plain": [
              "   DurationHrs  AvgTempF  Rainfallin AnthracnoseRisk\n",
              "0         71.2      54.6        1.92            High\n",
              "1         61.8      43.8        0.81            High\n",
              "2         52.3      48.4        2.60            High\n",
              "3         59.3      53.4        1.98            High\n",
              "4         74.0      55.8        0.66            High"
            ]
          },
          "metadata": {},
          "execution_count": 10
        }
      ]
    },
    {
      "cell_type": "code",
      "metadata": {
        "id": "szbia4esoa9N"
      },
      "source": [
        "#Ambil nilai x dan y\n",
        "x = df.iloc[:, [0, 1,2]]\n",
        "y = df.iloc[:, [3]]\n",
        "\n",
        "#Split data\n",
        "x_train, x_test, y_train, y_test = train_test_split(x, y, test_size = 0.2, random_state = 2)"
      ],
      "execution_count": 11,
      "outputs": []
    },
    {
      "cell_type": "code",
      "metadata": {
        "id": "W_p9SYeloeXP"
      },
      "source": [
        "class KNN():\n",
        "    def __init__ (self, x_train, y_train):\n",
        "        self.x_train = x_train\n",
        "        self.y_train = y_train\n",
        "        \n",
        "    #Weighted KNN\n",
        "    def predict_ecluidean_w(self, x_test, k=3):\n",
        "        # default k = 3\n",
        "        self.pred = []\n",
        "        count = 0\n",
        "        for i in x_test.index:\n",
        "            data = self.x_train.loc[:, [\"DurationHrs\", \"AvgTempF\", \"Rainfallin\"]] - x_test.loc[i, [\"DurationHrs\", \"AvgTempF\",\"Rainfallin\"]]\n",
        "            data[\"sum\"] = np.sqrt(data[\"DurationHrs\"] ** 2 + data[\"AvgTempF\"] ** 2 + data[\"Rainfallin\"]**2 )\n",
        "            data[\"ur\"] = self.y_train[\"AnthracnoseRisk\"]\n",
        "            data[\"weight\"] = 1/data[\"sum\"]\n",
        "            urPred = data.sort_values(by=[\"sum\"]).head(n=k).groupby(\"ur\")[\"weight\"].sum()\n",
        "            self.pred.append(urPred.idxmax())\n",
        "        \n",
        "        self.pred = pd.DataFrame(self.pred, columns=[\"prediction\"], index=x_test.index)\n",
        "\n",
        "    #Confussion Matrix\n",
        "    def confussion_mx(self, y_test):\n",
        "        self.df_actual = pd.DataFrame()\n",
        "        self.df_actual[\"actual\"] = y_test[\"AnthracnoseRisk\"]\n",
        "        self.df_actual[\"predicted\"] = self.pred[\"prediction\"]\n",
        "\n",
        "        act_h = self.df_actual[\"actual\"] == \"High\"\n",
        "        act_m = self.df_actual[\"actual\"] == \"Moderate\"\n",
        "        act_l = self.df_actual[\"actual\"] == \"Low\"\n",
        "\n",
        "        pred_h = self.df_actual[\"predicted\"] == \"High\"\n",
        "        pred_m = self.df_actual[\"predicted\"] == \"Moderate\"\n",
        "        pred_l = self.df_actual[\"predicted\"] == \"Low\"\n",
        "\n",
        "        ah_ph = len(self.df_actual[act_h & pred_h])\n",
        "        ah_pm = len(self.df_actual[act_h & pred_m])\n",
        "        ah_pl = len(self.df_actual[act_h & pred_l])\n",
        "\n",
        "        am_ph = len(self.df_actual[act_m & pred_h])\n",
        "        am_pm = len(self.df_actual[act_m & pred_m])\n",
        "        am_pl = len(self.df_actual[act_m & pred_l])\n",
        "\n",
        "        al_ph = len(self.df_actual[act_l & pred_h])\n",
        "        al_pm = len(self.df_actual[act_l & pred_m])\n",
        "        al_pl = len(self.df_actual[act_l & pred_l])\n",
        "\n",
        "        self.confusion_mx = np.array([[ah_ph, ah_pm, ah_pl], [am_ph, am_pm, am_pl], [al_ph, al_pm, al_pl] ])\n",
        "        return self.confusion_mx\n",
        "\n",
        "    #Heatmap\n",
        "    def toHeatmap(self, mx):\n",
        "        df_conf_mx = pd.DataFrame(mx, index=[\"High\", \"Moderate\", \"Low\"], columns=[\"High\", \"Moderate\", \"Low\"])\n",
        "        print(df_conf_mx)\n",
        "        plt.figure(figsize=(6, 8))\n",
        "        sns.set(font_scale = 1)\n",
        "        sns.heatmap(mx, annot=True, cbar_kws={\"orientation\": \"horizontal\"}, xticklabels=[\"High\", \"Moderate\", \"Low\"], yticklabels=[\"High\", \"Moderate\", \"Low\"], fmt=\".1f\")\n",
        "        plt.xlabel(\"Actual\")\n",
        "        plt.ylabel(\"Prediction\")\n",
        "        plt.show()\n",
        "    \n",
        "    #Precission recall F1-score\n",
        "    def precission(TP, FP):\n",
        "        return TP / (TP + FP)\n",
        "\n",
        "    def recall(TP, FN):\n",
        "        return TP / (TP + FN)\n",
        "\n",
        "    def f1_score(recall, precission):\n",
        "        return (2 * recall * precission) / (recall + precission)\n",
        "\n",
        "    def getF1(self):\n",
        "        show = []\n",
        "\n",
        "        h_tp = self.confusion_mx[0, 0]\n",
        "        h_tn = self.confusion_mx[1, 1] + self.confusion_mx[1, 2] + self.confusion_mx[2, 1] + self.confusion_mx[2, 2] \n",
        "        h_fp = self.confusion_mx[0, 1] + self.confusion_mx[0, 2]\n",
        "        h_fn = self.confusion_mx[1, 0] + self.confusion_mx[2, 0]\n",
        "\n",
        "        m_tp = self.confusion_mx[1, 1]\n",
        "        m_tn = self.confusion_mx[0, 0] + self.confusion_mx[2, 0] + self.confusion_mx[0, 2] + self.confusion_mx[2, 2] \n",
        "        m_fp = self.confusion_mx[1, 0] + self.confusion_mx[1, 2]\n",
        "        m_fn = self.confusion_mx[0, 1] + self.confusion_mx[2, 1]\n",
        "\n",
        "        l_tp = self.confusion_mx[2, 2]\n",
        "        l_tn = self.confusion_mx[0, 0] + self.confusion_mx[0, 1] + self.confusion_mx[1, 0] + self.confusion_mx[1, 1] \n",
        "        l_fp = self.confusion_mx[2, 0] + self.confusion_mx[2, 1]\n",
        "        l_fn = self.confusion_mx[0, 2] + self.confusion_mx[1, 2]\n",
        "\n",
        "        f1_score_full = (h_tp + m_tp + l_tp) / ( (h_tp + m_tp + l_tp) + ((h_fp + m_fp + l_fp) + (h_fn + m_fn + l_fn)) / 2 )\n",
        "        return f1_score_full"
      ],
      "execution_count": 12,
      "outputs": []
    },
    {
      "cell_type": "code",
      "metadata": {
        "colab": {
          "base_uri": "https://localhost:8080/",
          "height": 502
        },
        "id": "-EkcG73TpUFm",
        "outputId": "9d404aa7-d242-4d8b-f2ca-34fb07f15da6"
      },
      "source": [
        "#Weighted KNN\n",
        "model_ecluidean_w = KNN(x_train, y_train)\n",
        "model_ecluidean_w.predict_ecluidean_w(x_test, k = 5)\n",
        "confussion_matrix = model_ecluidean_w.confussion_mx(y_test)\n",
        "model_ecluidean_w.toHeatmap(confussion_matrix)"
      ],
      "execution_count": 13,
      "outputs": [
        {
          "output_type": "stream",
          "text": [
            "          High  Moderate  Low\n",
            "High         2         2    0\n",
            "Moderate     0         4    2\n",
            "Low          0         2   15\n"
          ],
          "name": "stdout"
        },
        {
          "output_type": "display_data",
          "data": {
            "image/png": "[encoded data removed]",
            "text/plain": [
              "<Figure size 432x576 with 2 Axes>"
            ]
          },
          "metadata": {}
        }
      ]
    },
    {
      "cell_type": "code",
      "metadata": {
        "id": "HnuJo92dpu5Y",
        "colab": {
          "base_uri": "https://localhost:8080/"
        },
        "outputId": "5a12d1c8-5105-4229-b1d4-2d842a968666"
      },
      "source": [
        "ecluidean_w_f1 = model_ecluidean_w.getF1()\n",
        "ecluidean_w_f1 "
      ],
      "execution_count": 14,
      "outputs": [
        {
          "output_type": "execute_result",
          "data": {
            "text/plain": [
              "0.7777777777777778"
            ]
          },
          "metadata": {},
          "execution_count": 14
        }
      ]
    }
  ]
}